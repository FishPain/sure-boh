{
 "cells": [
  {
   "cell_type": "code",
   "execution_count": null,
   "metadata": {},
   "outputs": [],
   "source": [
    "import html\n",
    "import numpy as np\n",
    "import pandas as pd\n",
    "import matplotlib.pyplot as plt\n",
    "from bs4 import BeautifulSoup\n",
    "from wordcloud import WordCloud\n",
    "import plotly.express as px\n",
    "import nltk\n",
    "from nltk import word_tokenize, pos_tag\n",
    "\n",
    "nltk.download('punkt')"
   ]
  },
  {
   "cell_type": "code",
   "execution_count": null,
   "metadata": {},
   "outputs": [],
   "source": [
    "df = pd.read_csv('../datasets/emscad_v1.csv')"
   ]
  },
  {
   "cell_type": "code",
   "execution_count": null,
   "metadata": {},
   "outputs": [],
   "source": [
    "df.columns"
   ]
  },
  {
   "cell_type": "code",
   "execution_count": null,
   "metadata": {},
   "outputs": [],
   "source": [
    "df[[\"telecommuting\", \"has_company_logo\",\"has_questions\", \"fraudulent\", \"in_balanced_dataset\"]].head(5)"
   ]
  },
  {
   "cell_type": "markdown",
   "metadata": {},
   "source": [
    "### Distribution of Null values for fraudulent against all dataset"
   ]
  },
  {
   "cell_type": "code",
   "execution_count": null,
   "metadata": {},
   "outputs": [],
   "source": [
    "# count all the columns that have null values\n",
    "df.isnull().sum()[df.isnull().sum()>0].sort_values(ascending=False)"
   ]
  },
  {
   "cell_type": "code",
   "execution_count": null,
   "metadata": {},
   "outputs": [],
   "source": [
    "# count all the columns that have null values that are fraudulent\n",
    "df[df[\"fraudulent\"]==\"t\"].isnull().sum()[df[df[\"fraudulent\"]==\"t\"].isnull().sum()>0].sort_values(ascending=False)"
   ]
  },
  {
   "cell_type": "code",
   "execution_count": null,
   "metadata": {},
   "outputs": [],
   "source": [
    "# percentage difference of null values between fraudulent and total\n",
    "fraud = df[df[\"fraudulent\"]==\"t\"].isnull().sum()[df[df[\"fraudulent\"]==\"t\"].isnull().sum()>0]\n",
    "total = df.isnull().sum()[df.isnull().sum()>0]\n",
    "f = (fraud/total*100).sort_values(ascending=False)\n",
    "f"
   ]
  },
  {
   "cell_type": "code",
   "execution_count": null,
   "metadata": {},
   "outputs": [],
   "source": [
    "# plot a bar chart of the percentage difference of null values between fraudulent and total\n",
    "# label each bar with the percentage\n",
    "plt.figure(figsize=(10,5))\n",
    "[plt.text(v, i, str(round(v,2))+\"%\") for i, v in enumerate(f)]\n",
    "plt.barh(f.index, f)\n",
    "plt.title(\"Percentage of null values in fraudulent out of total job postings\")\n",
    "plt.xlabel(\"Percentage\")\n",
    "plt.ylabel(\"Columns\")\n",
    "plt.show()\n"
   ]
  },
  {
   "cell_type": "markdown",
   "metadata": {},
   "source": [
    "### Word Cloud for fraudulent and non-fraudulent transactions"
   ]
  },
  {
   "cell_type": "code",
   "execution_count": null,
   "metadata": {},
   "outputs": [],
   "source": [
    "fraud_df_desc = df[df[\"fraudulent\"]==\"t\"][\"description\"]\n",
    "fraud_df_desc"
   ]
  },
  {
   "cell_type": "code",
   "execution_count": null,
   "metadata": {},
   "outputs": [],
   "source": [
    "def remove_html_tags_and_escape_chars(input_text):\n",
    "    # Remove HTML tags\n",
    "    text_without_html = BeautifulSoup(input_text, 'html.parser').get_text()\n",
    "\n",
    "    # Unescape HTML characters\n",
    "    text_without_escape_chars = html.unescape(text_without_html)\n",
    "\n",
    "    return text_without_escape_chars\n",
    "\n",
    "fraud_df_desc = fraud_df_desc.apply(remove_html_tags_and_escape_chars)"
   ]
  },
  {
   "cell_type": "code",
   "execution_count": null,
   "metadata": {},
   "outputs": [],
   "source": [
    "fraud_df_desc"
   ]
  },
  {
   "cell_type": "code",
   "execution_count": null,
   "metadata": {},
   "outputs": [],
   "source": [
    "def remove_non_alpha(input_text):\n",
    "    return ''.join(char if char.isalpha() or char.isspace() else ' ' for char in input_text)\n",
    "def remove_newlines(text):\n",
    "    return text.replace('\\n', '').replace('\\r', '')\n",
    "fraud_df_desc = fraud_df_desc.apply(remove_non_alpha)\n",
    "fraud_df_desc = fraud_df_desc.apply(remove_newlines)\n"
   ]
  },
  {
   "cell_type": "code",
   "execution_count": null,
   "metadata": {},
   "outputs": [],
   "source": [
    "fraud_df_desc = fraud_df_desc.str.lower()"
   ]
  },
  {
   "cell_type": "code",
   "execution_count": null,
   "metadata": {},
   "outputs": [],
   "source": [
    "fraud_df_desc =fraud_df_desc.apply(lambda x: word_tokenize(x.lower()))\n",
    "fraud_df_desc = fraud_df_desc.apply(lambda x: [word for word in x if len(word) >= 3])\n",
    "fraud_df_desc"
   ]
  },
  {
   "cell_type": "code",
   "execution_count": null,
   "metadata": {},
   "outputs": [],
   "source": [
    "fraud_df_desc"
   ]
  },
  {
   "cell_type": "code",
   "execution_count": null,
   "metadata": {},
   "outputs": [],
   "source": [
    "# put all the words into a string\n",
    "fraud_words = \"\"\n",
    "for i in fraud_df_desc:\n",
    "    fraud_words += \" \".join(i) + \" \"\n"
   ]
  },
  {
   "cell_type": "code",
   "execution_count": null,
   "metadata": {},
   "outputs": [],
   "source": [
    "wordcloud = WordCloud(width=800, height=400, background_color='white').generate(fraud_words)"
   ]
  },
  {
   "cell_type": "code",
   "execution_count": null,
   "metadata": {},
   "outputs": [],
   "source": [
    "plt.figure(figsize=(10, 5))\n",
    "plt.imshow(wordcloud, interpolation='bilinear')\n",
    "plt.axis('off')  # Turn off axis labels\n",
    "plt.show()"
   ]
  },
  {
   "cell_type": "markdown",
   "metadata": {},
   "source": [
    "Uses Pos Tagging to further filter out words"
   ]
  },
  {
   "cell_type": "code",
   "execution_count": null,
   "metadata": {},
   "outputs": [],
   "source": [
    "# Perform part-of-speech tagging\n",
    "def only_adj(x):\n",
    "    pos_tags = pos_tag(x)\n",
    "    return [word for word, pos in pos_tags if pos in ['JJ', 'JJR', 'JJS']]"
   ]
  },
  {
   "cell_type": "code",
   "execution_count": null,
   "metadata": {},
   "outputs": [],
   "source": [
    "df_adj = fraud_df_desc.apply(lambda x: only_adj(x))\n",
    "df_adj = df_adj[df_adj.apply(lambda x: len(x) > 0)]"
   ]
  },
  {
   "cell_type": "code",
   "execution_count": null,
   "metadata": {},
   "outputs": [],
   "source": [
    "# put all the words into a string\n",
    "fraud_words = \"\"\n",
    "for i in df_adj:\n",
    "    fraud_words += \" \".join(i) + \" \""
   ]
  },
  {
   "cell_type": "code",
   "execution_count": null,
   "metadata": {},
   "outputs": [],
   "source": [
    "wordcloud = WordCloud(width=800, height=400, background_color='white').generate(fraud_words)\n",
    "plt.figure(figsize=(10, 5))\n",
    "plt.imshow(wordcloud, interpolation='bilinear')\n",
    "plt.axis('off')  # Turn off axis labels\n",
    "plt.show()"
   ]
  },
  {
   "cell_type": "markdown",
   "metadata": {},
   "source": [
    "### Number of fraudulent job postings per state"
   ]
  },
  {
   "cell_type": "code",
   "execution_count": null,
   "metadata": {},
   "outputs": [],
   "source": [
    "df_loc = df[df[\"location\"].notnull()][[\"location\", \"fraudulent\"]]"
   ]
  },
  {
   "cell_type": "code",
   "execution_count": null,
   "metadata": {},
   "outputs": [],
   "source": [
    "df_loc['location'] = df_loc['location'].str.split(', ')\n",
    "df_loc['location'] = df_loc['location'].apply(lambda x: x if len(x)==3 else np.nan)\n",
    "df_loc = df_loc[df_loc['location'].notnull()]"
   ]
  },
  {
   "cell_type": "code",
   "execution_count": null,
   "metadata": {},
   "outputs": [],
   "source": [
    "df_loc[['Country', 'State', 'City']] = pd.DataFrame(df_loc['location'].tolist(), index=df_loc.index)"
   ]
  },
  {
   "cell_type": "code",
   "execution_count": null,
   "metadata": {},
   "outputs": [],
   "source": [
    "df_loc = df_loc[[\"Country\",\"State\", \"City\", \"fraudulent\"]]"
   ]
  },
  {
   "cell_type": "code",
   "execution_count": null,
   "metadata": {},
   "outputs": [],
   "source": [
    "# drop all rows with na\n",
    "df_loc.replace('', np.nan, inplace=True)\n",
    "df_loc = df_loc.dropna()"
   ]
  },
  {
   "cell_type": "code",
   "execution_count": null,
   "metadata": {},
   "outputs": [],
   "source": [
    "df_loc[\"fraudulent\"] = df_loc[\"fraudulent\"].apply(lambda x: 1 if x==\"t\" else 0)"
   ]
  },
  {
   "cell_type": "code",
   "execution_count": null,
   "metadata": {},
   "outputs": [],
   "source": [
    "# find the percentage of fraudulent job postings out of all in each state\n",
    "fraudulent_counts = df_loc.groupby(\"State\")[\"fraudulent\"].sum().reset_index()"
   ]
  },
  {
   "cell_type": "code",
   "execution_count": null,
   "metadata": {},
   "outputs": [],
   "source": [
    "# plot a map using python's plotly library\n",
    "# also show the number of fraudulent job postings per state\n",
    "fig = px.choropleth(fraudulent_counts, locations=\"State\",\n",
    "                    locationmode=\"USA-states\",\n",
    "                    color=\"fraudulent\",\n",
    "                    scope=\"usa\",\n",
    "                    title=\"Number of fraudulent job postings per state\",\n",
    "                    color_continuous_scale=px.colors.sequential.OrRd,\n",
    "                    labels={'fraudulent':'Number of fraudulent job postings'},\n",
    "                    template=\"plotly_white\",\n",
    "                    width=1000,\n",
    "                    height=600)\n",
    "# Add scatter points with text values\n",
    "fig.add_trace(px.scatter_geo(fraudulent_counts,\n",
    "                            locations='State',\n",
    "                            text='fraudulent',\n",
    "                            locationmode='USA-states',\n",
    "                            color=\"fraudulent\",\n",
    "                            ).data[0])\n",
    "\n",
    "fig.show()\n"
   ]
  }
 ],
 "metadata": {
  "kernelspec": {
   "display_name": "AAI",
   "language": "python",
   "name": "python3"
  },
  "language_info": {
   "codemirror_mode": {
    "name": "ipython",
    "version": 3
   },
   "file_extension": ".py",
   "mimetype": "text/x-python",
   "name": "python",
   "nbconvert_exporter": "python",
   "pygments_lexer": "ipython3",
   "version": "3.8.18"
  },
  "orig_nbformat": 4
 },
 "nbformat": 4,
 "nbformat_minor": 2
}
