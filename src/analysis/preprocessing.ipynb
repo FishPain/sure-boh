{
 "cells": [
  {
   "cell_type": "code",
   "execution_count": 1,
   "metadata": {},
   "outputs": [
    {
     "name": "stderr",
     "output_type": "stream",
     "text": [
      "[nltk_data] Downloading package punkt to\n",
      "[nltk_data]     C:\\Users\\yuhao\\AppData\\Roaming\\nltk_data...\n",
      "[nltk_data]   Package punkt is already up-to-date!\n"
     ]
    }
   ],
   "source": [
    "import numpy as np\n",
    "import pandas as pd\n",
    "import matplotlib.pyplot as plt\n",
    "import string\n",
    "# cleaning\n",
    "import nltk\n",
    "from nltk.corpus import stopwords\n",
    "from nltk.tokenize import word_tokenize\n",
    "nltk.download('punkt')\n",
    "from sklearn.feature_extraction.text import TfidfVectorizer\n",
    "from sklearn.decomposition import TruncatedSVD\n",
    "from sklearn.preprocessing import Normalizer, MultiLabelBinarizer\n",
    "from imblearn.over_sampling import SMOTE\n",
    "from imblearn.combine import SMOTETomek\n",
    "from gensim.parsing.porter import PorterStemmer\n",
    "\n",
    "# modelling\n",
    "from sklearn.model_selection import train_test_split\n",
    "from sklearn.svm import LinearSVC\n",
    "from sklearn.linear_model import LogisticRegression, SGDClassifier\n",
    "from sklearn.multioutput import MultiOutputClassifier, ClassifierChain\\\n",
    "# Evaluation\n",
    "from sklearn.model_selection import cross_val_score\n",
    "from sklearn.metrics import classification_report, accuracy_score, f1_score\n",
    "from sklearn.model_selection import RepeatedStratifiedKFold"
   ]
  },
  {
   "cell_type": "code",
   "execution_count": 2,
   "metadata": {},
   "outputs": [],
   "source": [
    "df = pd.read_csv('../datasets/emscad_v1.csv')"
   ]
  },
  {
   "cell_type": "code",
   "execution_count": 3,
   "metadata": {},
   "outputs": [
    {
     "data": {
      "text/plain": [
       "Index(['title', 'location', 'department', 'salary_range', 'company_profile',\n",
       "       'description', 'requirements', 'benefits', 'telecommuting',\n",
       "       'has_company_logo', 'has_questions', 'employment_type',\n",
       "       'required_experience', 'required_education', 'industry', 'function',\n",
       "       'fraudulent', 'in_balanced_dataset'],\n",
       "      dtype='object')"
      ]
     },
     "execution_count": 3,
     "metadata": {},
     "output_type": "execute_result"
    }
   ],
   "source": [
    "df.columns"
   ]
  },
  {
   "cell_type": "code",
   "execution_count": 4,
   "metadata": {},
   "outputs": [],
   "source": [
    "df = df[['description', 'requirements', 'benefits', 'fraudulent']].fillna('')"
   ]
  },
  {
   "cell_type": "code",
   "execution_count": 5,
   "metadata": {},
   "outputs": [],
   "source": [
    "df[\"feature\"] = df['description'] + \" \"+ df['requirements'] + \" \" + df['benefits']"
   ]
  },
  {
   "cell_type": "code",
   "execution_count": 6,
   "metadata": {},
   "outputs": [
    {
     "name": "stderr",
     "output_type": "stream",
     "text": [
      "C:\\Users\\yuhao\\AppData\\Local\\Temp\\ipykernel_22576\\1334024712.py:3: FutureWarning: The default value of regex will change from True to False in a future version.\n",
      "  df['feature'] = df['feature'].str.replace(r'<[^>]*>', '')\n",
      "C:\\Users\\yuhao\\AppData\\Local\\Temp\\ipykernel_22576\\1334024712.py:4: FutureWarning: The default value of regex will change from True to False in a future version.\n",
      "  df['feature'] = df['feature'].str.replace(r'&[^;]*;', '')\n",
      "C:\\Users\\yuhao\\AppData\\Local\\Temp\\ipykernel_22576\\1334024712.py:5: FutureWarning: The default value of regex will change from True to False in a future version.\n",
      "  df['feature'] = df['feature'].str.replace(r'\\\\[a-z]*', '')\n",
      "C:\\Users\\yuhao\\AppData\\Local\\Temp\\ipykernel_22576\\1334024712.py:7: FutureWarning: The default value of regex will change from True to False in a future version.\n",
      "  df['feature'] = df['feature'].str.replace(r'[^\\w\\s]', '')\n",
      "C:\\Users\\yuhao\\AppData\\Local\\Temp\\ipykernel_22576\\1334024712.py:9: FutureWarning: The default value of regex will change from True to False in a future version.\n",
      "  df['feature'] = df['feature'].str.replace(r'\\d+', '')\n",
      "C:\\Users\\yuhao\\AppData\\Local\\Temp\\ipykernel_22576\\1334024712.py:11: FutureWarning: The default value of regex will change from True to False in a future version.\n",
      "  df['feature'] = df['feature'].str.replace(r'\\s+', ' ')\n"
     ]
    }
   ],
   "source": [
    "df['feature'] = df['feature'].str.lower()\n",
    "# remove html tags and word that start with & and \\\n",
    "df['feature'] = df['feature'].str.replace(r'<[^>]*>', '')\n",
    "df['feature'] = df['feature'].str.replace(r'&[^;]*;', '')\n",
    "df['feature'] = df['feature'].str.replace(r'\\\\[a-z]*', '')\n",
    "# remove punctuation\n",
    "df['feature'] = df['feature'].str.replace(r'[^\\w\\s]', '')\n",
    "# remove digits\n",
    "df['feature'] = df['feature'].str.replace(r'\\d+', '')\n",
    "# remove whitespace\n",
    "df['feature'] = df['feature'].str.replace(r'\\s+', ' ')"
   ]
  },
  {
   "cell_type": "code",
   "execution_count": 7,
   "metadata": {},
   "outputs": [],
   "source": [
    "# tokenise\n",
    "df['feature'] = df['feature'].apply(lambda x: word_tokenize(x.lower()))"
   ]
  },
  {
   "cell_type": "code",
   "execution_count": 8,
   "metadata": {},
   "outputs": [],
   "source": [
    "df = df[['feature', 'fraudulent']]"
   ]
  },
  {
   "cell_type": "code",
   "execution_count": 9,
   "metadata": {},
   "outputs": [],
   "source": [
    "# remove stopwords\n",
    "all_stopwords = set(stopwords.words('english'))\n",
    "all_stopwords.update(['\\\\r\\\\n'])\n",
    "df['feature'] = df['feature'].apply(lambda x: [word for word in x if word not in all_stopwords])"
   ]
  },
  {
   "cell_type": "code",
   "execution_count": 10,
   "metadata": {},
   "outputs": [],
   "source": [
    "# stem words\n",
    "df['feature'] = df['feature'].apply(lambda x: [PorterStemmer().stem(word) for word in x])"
   ]
  },
  {
   "cell_type": "code",
   "execution_count": 11,
   "metadata": {},
   "outputs": [],
   "source": [
    "df['feature'] = df['feature'].apply(lambda x: [word for word in x if len(word) >= 3])"
   ]
  },
  {
   "cell_type": "code",
   "execution_count": 12,
   "metadata": {},
   "outputs": [],
   "source": [
    "df['feature'] = df['feature'].apply(lambda x: ' '.join(x))"
   ]
  },
  {
   "cell_type": "code",
   "execution_count": 13,
   "metadata": {},
   "outputs": [],
   "source": [
    "# drop rows wwith empty str\n",
    "df = df[df['feature'] != '']"
   ]
  },
  {
   "cell_type": "code",
   "execution_count": 14,
   "metadata": {},
   "outputs": [],
   "source": [
    "df['fraudulent'] = df['fraudulent'].apply(lambda x: 1 if x == \"t\" else 0)"
   ]
  },
  {
   "cell_type": "markdown",
   "metadata": {},
   "source": [
    "### Feature extraction using tf-idf"
   ]
  },
  {
   "cell_type": "code",
   "execution_count": 15,
   "metadata": {},
   "outputs": [],
   "source": [
    "tfidf = TfidfVectorizer()\n",
    "dtm = tfidf.fit_transform(df['feature'])"
   ]
  },
  {
   "cell_type": "markdown",
   "metadata": {},
   "source": [
    "### Dimensionsality reduction using SVD <br>\n",
    "This removes the less important variables in my dataset and improves training speed."
   ]
  },
  {
   "cell_type": "code",
   "execution_count": 16,
   "metadata": {},
   "outputs": [],
   "source": [
    "dimension = 350\n",
    "svd = TruncatedSVD(dimension, random_state=42)\n",
    "dtm_svd = svd.fit_transform(dtm)\n",
    "dtm_svd = Normalizer(copy=False).fit_transform(dtm_svd)"
   ]
  },
  {
   "cell_type": "code",
   "execution_count": 19,
   "metadata": {},
   "outputs": [],
   "source": [
    "x = pd.DataFrame(dtm_svd)\n",
    "x.reset_index(inplace=True, drop=True)\n",
    "y = df['fraudulent']"
   ]
  },
  {
   "cell_type": "code",
   "execution_count": 20,
   "metadata": {},
   "outputs": [],
   "source": [
    "# train test split\n",
    "x_train, x_test, y_train, y_test = train_test_split(x, y, test_size=0.2, random_state=42, stratify=y)"
   ]
  }
 ],
 "metadata": {
  "kernelspec": {
   "display_name": "AAI",
   "language": "python",
   "name": "python3"
  },
  "language_info": {
   "codemirror_mode": {
    "name": "ipython",
    "version": 3
   },
   "file_extension": ".py",
   "mimetype": "text/x-python",
   "name": "python",
   "nbconvert_exporter": "python",
   "pygments_lexer": "ipython3",
   "version": "3.8.13"
  },
  "orig_nbformat": 4
 },
 "nbformat": 4,
 "nbformat_minor": 2
}
