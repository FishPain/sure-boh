{
 "cells": [
  {
   "cell_type": "code",
   "execution_count": null,
   "metadata": {},
   "outputs": [],
   "source": [
    "import numpy as np\n",
    "import pandas as pd\n",
    "import matplotlib.pyplot as plot"
   ]
  },
  {
   "cell_type": "code",
   "execution_count": null,
   "metadata": {},
   "outputs": [],
   "source": [
    "dataset = pd.read_csv(\"../datasets/emscad_v1.csv\")\n",
    "\n",
    "def duplicatedChecking(df):\n",
    "    print(\"Number of duplicated rows detected\",df.duplicated().sum())\n",
    "    df.drop_duplicates(inplace=True)\n",
    "\n",
    "\n",
    "duplicatedChecking(dataset)\n",
    "#show some values for the dataset\n",
    "\n",
    "# convert stringified t and f to boolean\n",
    "dataset['fraudulent'] = dataset['fraudulent'].map({'t': True, 'f': False})\n",
    "dataset['telecommuting'] = dataset['telecommuting'].map({'t': True, 'f': False})\n",
    "dataset['has_company_logo'] = dataset['has_company_logo'].map({'t': True, 'f': False})\n",
    "dataset['has_questions'] = dataset['has_questions'].map({'t': True, 'f': False})\n",
    "dataset['in_balanced_dataset'] = dataset['in_balanced_dataset'].map({'t': True, 'f': False})\n",
    "\n",
    "dataset.to_csv(\"../datasets/emscad_v2.csv\", index=False)"
   ]
  },
  {
   "cell_type": "code",
   "execution_count": null,
   "metadata": {},
   "outputs": [],
   "source": [
    "dataset = pd.read_csv(\"../datasets/emscad_v2.csv\")\n",
    "\n",
    "dataset.head(10)"
   ]
  },
  {
   "cell_type": "code",
   "execution_count": null,
   "metadata": {},
   "outputs": [],
   "source": [
    "# count the number of data with false in the fraudulent column\n",
    "print(\"Number of non-fraudulent data\", dataset['fraudulent'].value_counts())\n",
    "dataset = pd.read_csv(\"../datasets/emscad_v2.csv\")\n",
    "\n",
    "# # create a bargraph showing the top 10 industries and differentiate between fraudulent and non-fraudulent\n",
    "top_10_industries = (dataset['industry'].value_counts()).iloc[:5]\n",
    "#  split top 10 industries into fraudulent and non-fraudulent\n",
    "top_10_industries_fraudulent = dataset[dataset['fraudulent'] == True]['industry'].value_counts().iloc[:5]\n",
    "top_10_industries_non_fraudulent = dataset[dataset['fraudulent'] == False]['industry'].value_counts().iloc[:5]\n",
    "\n",
    "\n",
    "df2 = dataset.groupby(['industry', 'fraudulent']).size().unstack(fill_value=0).sort_values(by=[False], ascending=False).head(10)\n",
    "# sort df2 total count of non-fraudulent and fraudulent jobs\n",
    "df2['total'] = df2[True] + df2[False]\n",
    "df2['percent Fraud'] = df2[True] / (df2[True] + df2[False]) * 100\n",
    "df2['Fraudulent'] = df2[True]\n",
    "df2['Non-Fraudulent'] = df2[False]\n",
    "df2.sort_values(by='total', inplace=True)\n",
    "print(df2)\n",
    "\n",
    "plot = df2[['Non-Fraudulent', 'Fraudulent']].plot(kind='barh', y=['Fraudulent', 'Non-Fraudulent'], stacked=False, figsize=(10, 7), title='Top 10 Most Common Industries', color=['orange', 'cornflowerblue'])\n",
    "# now display the percent fraud on the graph\n",
    "for index, value in enumerate(df2['percent Fraud']):\n",
    "    plot.text(value + 60, index - 0.2, str(round(value, 2)) + '%') \n",
    "    plot.set_xlabel(\"Number of Jobs\")\n",
    "    plot.set_ylabel(\"\")\n",
    "\n"
   ]
  },
  {
   "cell_type": "code",
   "execution_count": null,
   "metadata": {},
   "outputs": [],
   "source": [
    "dataset = pd.read_csv(\"../datasets/emscad_v2.csv\")\n",
    "\n",
    "df2 = dataset.groupby(['industry', 'fraudulent']).size().unstack(fill_value=0).sort_values(by=[True], ascending=False)\n",
    "df2['total'] = df2[True] + df2[False]\n",
    "df2['percent Fraud'] = df2[True] / (df2[True] + df2[False]) * 100\n",
    "df2['Fraudulent'] = df2[True]\n",
    "df2['Non-Fraudulent'] = df2[False]\n",
    "df2.sort_values(by='percent Fraud', ascending=False, inplace=True)\n",
    "df2 = df2[df2['total'] > 100].head(10)\n",
    "print(df2)\n",
    "\n",
    "# reverse the order of df2\n",
    "df2 = df2.iloc[::-1]\n",
    "\n",
    "plot = df2[['Non-Fraudulent', 'Fraudulent']].plot(kind='barh', y=['Fraudulent', 'Non-Fraudulent'],stacked=False, figsize=(10, 8), title='Top 10 Industries by Ratio of Fraudulent Jobs', color=['orange', 'cornflowerblue'])\n",
    "for index, value in enumerate(df2['percent Fraud']):\n",
    "    plot.text(value + 70, index - 0.15, str(round(value, 2)) + '%', ha = 'left', va='center', ) \n",
    "    plot.set_xlabel(\"Number of Jobs\")\n",
    "    plot.set_ylabel(\"\")"
   ]
  }
 ],
 "metadata": {
  "kernelspec": {
   "display_name": ".venv",
   "language": "python",
   "name": "python3"
  },
  "language_info": {
   "codemirror_mode": {
    "name": "ipython",
    "version": 3
   },
   "file_extension": ".py",
   "mimetype": "text/x-python",
   "name": "python",
   "nbconvert_exporter": "python",
   "pygments_lexer": "ipython3",
   "version": "3.11.6"
  },
  "orig_nbformat": 4
 },
 "nbformat": 4,
 "nbformat_minor": 2
}
