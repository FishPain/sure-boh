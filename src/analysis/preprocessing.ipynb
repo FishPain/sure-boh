{
 "cells": [
  {
   "cell_type": "code",
   "execution_count": null,
   "metadata": {},
   "outputs": [],
   "source": [
    "import numpy as np\n",
    "import pandas as pd\n",
    "import matplotlib.pyplot as plt"
   ]
  },
  {
   "cell_type": "code",
   "execution_count": null,
   "metadata": {},
   "outputs": [],
   "source": [
    "df = pd.read_csv('../datasets/emscad_v1.csv')"
   ]
  },
  {
   "cell_type": "code",
   "execution_count": null,
   "metadata": {},
   "outputs": [],
   "source": [
    "df.columns"
   ]
  },
  {
   "cell_type": "code",
   "execution_count": null,
   "metadata": {},
   "outputs": [],
   "source": [
    "df.head(5)"
   ]
  },
  {
   "cell_type": "code",
   "execution_count": null,
   "metadata": {},
   "outputs": [],
   "source": [
    "# count all the columns that have null values\n",
    "df.isnull().sum()[df.isnull().sum()>0].sort_values(ascending=False)"
   ]
  },
  {
   "cell_type": "code",
   "execution_count": null,
   "metadata": {},
   "outputs": [],
   "source": [
    "# count all the columns that have null values that are fraudulent\n",
    "df[df[\"fraudulent\"]==\"t\"].isnull().sum()[df[df[\"fraudulent\"]==\"t\"].isnull().sum()>0].sort_values(ascending=False)"
   ]
  },
  {
   "cell_type": "code",
   "execution_count": null,
   "metadata": {},
   "outputs": [],
   "source": [
    "# percentage difference of null values between fraudulent and total\n",
    "fraud = df[df[\"fraudulent\"]==\"t\"].isnull().sum()[df[df[\"fraudulent\"]==\"t\"].isnull().sum()>0]\n",
    "total = df.isnull().sum()[df.isnull().sum()>0]\n",
    "f = (fraud/total*100).sort_values(ascending=False)\n",
    "f"
   ]
  },
  {
   "cell_type": "code",
   "execution_count": null,
   "metadata": {},
   "outputs": [],
   "source": [
    "# plot a bar chart of the percentage difference of null values between fraudulent and total\n",
    "# label each bar with the percentage\n",
    "plt.figure(figsize=(10,5))\n",
    "[plt.text(v, i, str(round(v,2))+\"%\") for i, v in enumerate(f)]\n",
    "plt.barh(f.index, f)\n",
    "plt.title(\"Percentage of null values in fraudulent out of total job postings\")\n",
    "plt.xlabel(\"Percentage\")\n",
    "plt.ylabel(\"Columns\")\n",
    "plt.show()\n"
   ]
  }
 ],
 "metadata": {
  "kernelspec": {
   "display_name": "AAI",
   "language": "python",
   "name": "python3"
  },
  "language_info": {
   "codemirror_mode": {
    "name": "ipython",
    "version": 3
   },
   "file_extension": ".py",
   "mimetype": "text/x-python",
   "name": "python",
   "nbconvert_exporter": "python",
   "pygments_lexer": "ipython3",
   "version": "3.8.18"
  },
  "orig_nbformat": 4
 },
 "nbformat": 4,
 "nbformat_minor": 2
}
