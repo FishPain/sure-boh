{
  "cells": [
    {
      "cell_type": "markdown",
      "metadata": {
        "colab_type": "text",
        "id": "view-in-github"
      },
      "source": [
        "<a href=\"https://colab.research.google.com/github/FishPain/sure-bo/blob/MiloyBlitz/Missing_Values_%26_Top10_Departments.ipynb\" target=\"_parent\"><img src=\"https://colab.research.google.com/assets/colab-badge.svg\" alt=\"Open In Colab\"/></a>"
      ]
    },
    {
      "cell_type": "code",
      "execution_count": null,
      "metadata": {
        "colab": {
          "base_uri": "https://localhost:8080/",
          "height": 607
        },
        "id": "SZDLSlVrafde",
        "outputId": "c988fa38-aa56-48a8-c5dc-0fd8f6e24ae3"
      },
      "outputs": [],
      "source": [
        "import pandas as pd\n",
        "import matplotlib.pyplot as plt\n",
        "from matplotlib.ticker import FuncFormatter\n",
        "\n",
        "\n",
        "df = pd.read_csv(\"Dataset.csv\")\n",
        "columns_with_missing = ['salary_range','company_profile','requirements','benefits'\n",
        "                        ,'employment_type','required_experience','required_education','industry','function','location','department']\n",
        "fraud_percentage_by_missing = {}\n",
        "df['fraudulent'] = df['fraudulent'].map({'t': True, 'f': False})\n",
        "\n",
        "for column in columns_with_missing:\n",
        "    df[f'{column}_missing'] = df[column].isnull()\n",
        "    fraud_percentage = df.groupby(f'{column}_missing')['fraudulent'].mean()\n",
        "    fraud_percentage_by_missing[column] = fraud_percentage\n",
        "\n",
        "fraud_df = pd.DataFrame(fraud_percentage_by_missing)\n",
        "fraud_df = fraud_df.transpose()\n",
        "\n",
        "fig, ax = plt.subplots(figsize=(10, 6))\n",
        "bars = ax.barh(fraud_df.index.astype(str), fraud_df[True], color='skyblue')\n",
        "ax.set_xlabel('Fraudulent %')\n",
        "ax.set_ylabel('Columns with Missing Values')\n",
        "ax.set_title('Fraudulent Job Postings Percentage based on Missing Values')\n",
        "\n",
        "for bar in bars:\n",
        "    width = bar.get_width()\n",
        "    ax.annotate('{:.2f}%'.format(width * 100),\n",
        "                xy=(width, bar.get_y() + bar.get_height() / 2),\n",
        "                xytext=(3, 0),  # 3 points horizontal offset\n",
        "                textcoords=\"offset points\",\n",
        "                ha='left', va='center')\n",
        "\n",
        "ax.xaxis.set_major_formatter(FuncFormatter(lambda x, pos: '{:.1f}%'.format(x * 100)))\n",
        "\n",
        "plt.tight_layout()\n",
        "plt.show()\n",
        "\n"
      ]
    },
    {
      "cell_type": "code",
      "execution_count": null,
      "metadata": {
        "colab": {
          "base_uri": "https://localhost:8080/",
          "height": 607
        },
        "id": "iZSZaFB8bjcV",
        "outputId": "4f1e96e0-0fdd-4bda-afae-b3e3c35e2150"
      },
      "outputs": [],
      "source": [
        "import pandas as pd\n",
        "import matplotlib.pyplot as plt\n",
        "\n",
        "df = pd.read_csv(\"Dataset.csv\")\n",
        "df['fraudulent'] = df['fraudulent'].map({'t': True, 'f': False})\n",
        "top_10_fraudulent_departments = df[df['fraudulent'] == True]['department'].value_counts().nlargest(10)\n",
        "\n",
        "\n",
        "fig, ax = plt.subplots(figsize=(10, 6))\n",
        "bars = ax.barh(top_10_fraudulent_departments.index.astype(str), top_10_fraudulent_departments.values, color='skyblue')\n",
        "ax.set_xlabel('Number of Fraudulent Job Postings')\n",
        "ax.set_ylabel('Department')\n",
        "ax.set_title('Top 10 Fraudulent Job Postings Count by Department')\n",
        "ax.set_xlim(0, 50)\n",
        "\n",
        "for bar in bars:\n",
        "    width = bar.get_width()\n",
        "    ax.annotate('{}'.format(int(width)),\n",
        "                xy=(width, bar.get_y() + bar.get_height() / 2),\n",
        "                xytext=(3, 0),  # 3 points horizontal offset\n",
        "                textcoords=\"offset points\",\n",
        "                ha='left', va='center')\n",
        "\n",
        "plt.tight_layout()\n",
        "plt.show()"
      ]
    },
    {
      "cell_type": "code",
      "execution_count": null,
      "metadata": {
        "colab": {
          "base_uri": "https://localhost:8080/",
          "height": 721
        },
        "id": "8FpDUywCahrq",
        "outputId": "56ab8daa-20b2-419f-8454-ebacea8119d2"
      },
      "outputs": [],
      "source": [
        "import pandas as pd\n",
        "import matplotlib.pyplot as plt\n",
        "df = pd.read_csv(\"Dataset.csv\")\n",
        "\n",
        "\n",
        "df['fraudulent'] = df['fraudulent'].map({'t': True, 'f': False})\n",
        "top_10_fraudulent_departments = df[df['fraudulent'] == True]['department'].value_counts().nlargest(10)\n",
        "\n",
        "fig, ax = plt.subplots(figsize=(8, 8))\n",
        "ax.pie(top_10_fraudulent_departments.values, labels=top_10_fraudulent_departments.index, autopct='%1.1f%%', startangle=90)\n",
        "ax.set_title('Fraudulent % (Top 10 Departments)')\n",
        "\n",
        "plt.tight_layout()\n",
        "plt.show()\n",
        "\n"
      ]
    },
    {
      "cell_type": "code",
      "execution_count": null,
      "metadata": {
        "id": "Tb-tGCqvfTUH"
      },
      "outputs": [],
      "source": []
    }
  ],
  "metadata": {
    "colab": {
      "authorship_tag": "ABX9TyNWyIzGQdrY9ElfMVRpLW6r",
      "include_colab_link": true,
      "provenance": []
    },
    "kernelspec": {
      "display_name": "Python 3",
      "name": "python3"
    },
    "language_info": {
      "name": "python"
    }
  },
  "nbformat": 4,
  "nbformat_minor": 0
}
