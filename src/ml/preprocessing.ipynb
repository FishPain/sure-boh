{
   "cells": [
      {
         "attachments": {},
         "cell_type": "markdown",
         "metadata": {},
         "source": [
            "### Imports"
         ]
      },
      {
         "cell_type": "code",
         "execution_count": 1,
         "metadata": {},
         "outputs": [
            {
               "name": "stderr",
               "output_type": "stream",
               "text": [
                  "[nltk_data] Downloading package punkt to\n",
                  "[nltk_data]     C:\\Users\\yuhao\\AppData\\Roaming\\nltk_data...\n",
                  "[nltk_data]   Package punkt is already up-to-date!\n"
               ]
            },
            {
               "data": {
                  "text/plain": [
                     "True"
                  ]
               },
               "execution_count": 1,
               "metadata": {},
               "output_type": "execute_result"
            }
         ],
         "source": [
            "import numpy as np\n",
            "import pandas as pd\n",
            "import matplotlib.pyplot as plt\n",
            "from bs4 import BeautifulSoup\n",
            "import html\n",
            "import joblib\n",
            "import shutil\n",
            "from sklearn.feature_extraction.text import TfidfVectorizer\n",
            "from sklearn.decomposition import TruncatedSVD\n",
            "from sklearn.preprocessing import Normalizer, MultiLabelBinarizer\n",
            "from imblearn.over_sampling import SMOTE\n",
            "from imblearn.combine import SMOTETomek\n",
            "from imblearn.pipeline import make_pipeline\n",
            "from gensim.parsing.porter import PorterStemmer\n",
            "\n",
            "# modelling\n",
            "from sklearn.base import TransformerMixin\n",
            "from sklearn.model_selection import train_test_split\n",
            "from sklearn.ensemble import RandomForestClassifier\n",
            "\n",
            "# Evaluation\n",
            "from sklearn.model_selection import cross_val_score\n",
            "from sklearn.metrics import classification_report, accuracy_score, f1_score\n",
            "from sklearn.model_selection import RepeatedStratifiedKFold\n",
            "\n",
            "import nltk\n",
            "from nltk.corpus import stopwords\n",
            "from nltk.tokenize import word_tokenize\n",
            "from nltk.util import ngrams\n",
            "nltk.download('punkt')"
         ]
      },
      {
         "attachments": {},
         "cell_type": "markdown",
         "metadata": {},
         "source": [
            "### Helper class"
         ]
      },
      {
         "cell_type": "code",
         "execution_count": 2,
         "metadata": {},
         "outputs": [],
         "source": [
            "def evaluate_model(model, X, y, label):\n",
            "    \"\"\"\n",
            "    :param model: model to evaluate\n",
            "    :param X: features\n",
            "    :param y: target\n",
            "    :param label: label for the model \n",
            "\n",
            "    \"\"\"\n",
            "    y_pred = model.predict(X)\n",
            "\n",
            "    print(label + ' Set')\n",
            "    print(\"Accuracy:\", accuracy_score(y, y_pred))\n",
            "    print(\"F1 Score:\", f1_score(y, y_pred, average='macro'))\n",
            "    print()\n",
            "\n",
            "    print(\"Classification Report\")\n",
            "\n",
            "\n",
            "    print(classification_report(y, y_pred, digits=4))\n",
            "    \n",
            "\n",
            "\n",
            "def get_score(model, X, y):\n",
            "    \"\"\"\n",
            "    :param model: model to evaluate\n",
            "    :param X: features\n",
            "    :param y: target\n",
            "\n",
            "    \"\"\"\n",
            "    cv = RepeatedStratifiedKFold(n_splits=5, n_repeats=3, random_state=42)\n",
            "    print('Accuracy: ', cross_val_score(model, X, y, cv=cv, scoring='accuracy').mean())\n",
            "    print('Precision Macro: ', cross_val_score(model, X, y, cv=cv, scoring='precision_macro').mean())\n",
            "    print('Recall Macro: ', cross_val_score(model, X, y, cv=cv, scoring='recall_macro').mean())\n",
            "    print('F1 Macro: ', cross_val_score(model, X, y, cv=cv, scoring='f1_macro').mean())\n",
            "    \n",
            "def compress_file(input_file, output_tar_gz):\n",
            "    shutil.make_archive(output_tar_gz, 'xztar', '.', input_file)"
         ]
      },
      {
         "cell_type": "code",
         "execution_count": 3,
         "metadata": {},
         "outputs": [],
         "source": [
            "df = pd.read_csv('../datasets/emscad_v1.csv')"
         ]
      },
      {
         "cell_type": "code",
         "execution_count": 4,
         "metadata": {},
         "outputs": [
            {
               "data": {
                  "text/plain": [
                     "Index(['title', 'location', 'department', 'salary_range', 'company_profile',\n",
                     "       'description', 'requirements', 'benefits', 'telecommuting',\n",
                     "       'has_company_logo', 'has_questions', 'employment_type',\n",
                     "       'required_experience', 'required_education', 'industry', 'function',\n",
                     "       'fraudulent', 'in_balanced_dataset'],\n",
                     "      dtype='object')"
                  ]
               },
               "execution_count": 4,
               "metadata": {},
               "output_type": "execute_result"
            }
         ],
         "source": [
            "df.columns"
         ]
      },
      {
         "attachments": {},
         "cell_type": "markdown",
         "metadata": {},
         "source": [
            "### Data Cleaning"
         ]
      },
      {
         "cell_type": "code",
         "execution_count": 5,
         "metadata": {},
         "outputs": [],
         "source": [
            "df = df[['description', 'requirements', 'benefits', 'fraudulent']].fillna('')"
         ]
      },
      {
         "cell_type": "code",
         "execution_count": 6,
         "metadata": {},
         "outputs": [],
         "source": [
            "df[\"feature\"] = df['description'] + \" \"+ df['requirements'] + \" \" + df['benefits']"
         ]
      },
      {
         "cell_type": "code",
         "execution_count": 7,
         "metadata": {},
         "outputs": [],
         "source": [
            "df = df[['feature', 'fraudulent']]"
         ]
      },
      {
         "cell_type": "code",
         "execution_count": 8,
         "metadata": {},
         "outputs": [
            {
               "data": {
                  "text/html": [
                     "<div>\n",
                     "<style scoped>\n",
                     "    .dataframe tbody tr th:only-of-type {\n",
                     "        vertical-align: middle;\n",
                     "    }\n",
                     "\n",
                     "    .dataframe tbody tr th {\n",
                     "        vertical-align: top;\n",
                     "    }\n",
                     "\n",
                     "    .dataframe thead th {\n",
                     "        text-align: right;\n",
                     "    }\n",
                     "</style>\n",
                     "<table border=\"1\" class=\"dataframe\">\n",
                     "  <thead>\n",
                     "    <tr style=\"text-align: right;\">\n",
                     "      <th></th>\n",
                     "      <th>feature</th>\n",
                     "      <th>fraudulent</th>\n",
                     "    </tr>\n",
                     "  </thead>\n",
                     "  <tbody>\n",
                     "    <tr>\n",
                     "      <th>0</th>\n",
                     "      <td>&lt;p&gt;Food52, a fast-growing, James Beard Award-w...</td>\n",
                     "      <td>f</td>\n",
                     "    </tr>\n",
                     "    <tr>\n",
                     "      <th>1</th>\n",
                     "      <td>&lt;p&gt;Organised - Focused - Vibrant - Awesome!&lt;br...</td>\n",
                     "      <td>f</td>\n",
                     "    </tr>\n",
                     "    <tr>\n",
                     "      <th>2</th>\n",
                     "      <td>&lt;p&gt;Our client, located in Houston, is actively...</td>\n",
                     "      <td>f</td>\n",
                     "    </tr>\n",
                     "    <tr>\n",
                     "      <th>3</th>\n",
                     "      <td>&lt;p&gt;&lt;b&gt;THE COMPANY: ESRI – Environmental System...</td>\n",
                     "      <td>f</td>\n",
                     "    </tr>\n",
                     "    <tr>\n",
                     "      <th>4</th>\n",
                     "      <td>&lt;p&gt;&lt;b&gt;JOB TITLE:&lt;/b&gt; Itemization Review Manage...</td>\n",
                     "      <td>f</td>\n",
                     "    </tr>\n",
                     "  </tbody>\n",
                     "</table>\n",
                     "</div>"
                  ],
                  "text/plain": [
                     "                                             feature fraudulent\n",
                     "0  <p>Food52, a fast-growing, James Beard Award-w...          f\n",
                     "1  <p>Organised - Focused - Vibrant - Awesome!<br...          f\n",
                     "2  <p>Our client, located in Houston, is actively...          f\n",
                     "3  <p><b>THE COMPANY: ESRI – Environmental System...          f\n",
                     "4  <p><b>JOB TITLE:</b> Itemization Review Manage...          f"
                  ]
               },
               "execution_count": 8,
               "metadata": {},
               "output_type": "execute_result"
            }
         ],
         "source": [
            "df.head(5)"
         ]
      },
      {
         "cell_type": "code",
         "execution_count": 9,
         "metadata": {},
         "outputs": [
            {
               "data": {
                  "text/html": [
                     "<div>\n",
                     "<style scoped>\n",
                     "    .dataframe tbody tr th:only-of-type {\n",
                     "        vertical-align: middle;\n",
                     "    }\n",
                     "\n",
                     "    .dataframe tbody tr th {\n",
                     "        vertical-align: top;\n",
                     "    }\n",
                     "\n",
                     "    .dataframe thead th {\n",
                     "        text-align: right;\n",
                     "    }\n",
                     "</style>\n",
                     "<table border=\"1\" class=\"dataframe\">\n",
                     "  <thead>\n",
                     "    <tr style=\"text-align: right;\">\n",
                     "      <th></th>\n",
                     "      <th>feature</th>\n",
                     "      <th>fraudulent</th>\n",
                     "    </tr>\n",
                     "  </thead>\n",
                     "  <tbody>\n",
                     "    <tr>\n",
                     "      <th>0</th>\n",
                     "      <td>&lt;p&gt;food52, a fast-growing, james beard award-w...</td>\n",
                     "      <td>f</td>\n",
                     "    </tr>\n",
                     "    <tr>\n",
                     "      <th>1</th>\n",
                     "      <td>&lt;p&gt;organised - focused - vibrant - awesome!&lt;br...</td>\n",
                     "      <td>f</td>\n",
                     "    </tr>\n",
                     "    <tr>\n",
                     "      <th>2</th>\n",
                     "      <td>&lt;p&gt;our client, located in houston, is actively...</td>\n",
                     "      <td>f</td>\n",
                     "    </tr>\n",
                     "    <tr>\n",
                     "      <th>3</th>\n",
                     "      <td>&lt;p&gt;&lt;b&gt;the company: esri – environmental system...</td>\n",
                     "      <td>f</td>\n",
                     "    </tr>\n",
                     "    <tr>\n",
                     "      <th>4</th>\n",
                     "      <td>&lt;p&gt;&lt;b&gt;job title:&lt;/b&gt; itemization review manage...</td>\n",
                     "      <td>f</td>\n",
                     "    </tr>\n",
                     "  </tbody>\n",
                     "</table>\n",
                     "</div>"
                  ],
                  "text/plain": [
                     "                                             feature fraudulent\n",
                     "0  <p>food52, a fast-growing, james beard award-w...          f\n",
                     "1  <p>organised - focused - vibrant - awesome!<br...          f\n",
                     "2  <p>our client, located in houston, is actively...          f\n",
                     "3  <p><b>the company: esri – environmental system...          f\n",
                     "4  <p><b>job title:</b> itemization review manage...          f"
                  ]
               },
               "execution_count": 9,
               "metadata": {},
               "output_type": "execute_result"
            }
         ],
         "source": [
            "df['feature'] = df['feature'].str.lower()\n",
            "df.head(5)"
         ]
      },
      {
         "cell_type": "code",
         "execution_count": 10,
         "metadata": {},
         "outputs": [],
         "source": [
            "def remove_html_tags_and_escape_chars(input_text):\n",
            "    # Remove HTML tags\n",
            "    text_without_html = BeautifulSoup(input_text, 'html.parser').get_text()\n",
            "\n",
            "    # Unescape HTML characters\n",
            "    text_without_escape_chars = html.unescape(text_without_html)\n",
            "\n",
            "    return text_without_escape_chars"
         ]
      },
      {
         "cell_type": "code",
         "execution_count": 11,
         "metadata": {},
         "outputs": [
            {
               "data": {
                  "text/html": [
                     "<div>\n",
                     "<style scoped>\n",
                     "    .dataframe tbody tr th:only-of-type {\n",
                     "        vertical-align: middle;\n",
                     "    }\n",
                     "\n",
                     "    .dataframe tbody tr th {\n",
                     "        vertical-align: top;\n",
                     "    }\n",
                     "\n",
                     "    .dataframe thead th {\n",
                     "        text-align: right;\n",
                     "    }\n",
                     "</style>\n",
                     "<table border=\"1\" class=\"dataframe\">\n",
                     "  <thead>\n",
                     "    <tr style=\"text-align: right;\">\n",
                     "      <th></th>\n",
                     "      <th>feature</th>\n",
                     "      <th>fraudulent</th>\n",
                     "    </tr>\n",
                     "  </thead>\n",
                     "  <tbody>\n",
                     "    <tr>\n",
                     "      <th>0</th>\n",
                     "      <td>food52, a fast-growing, james beard award-winn...</td>\n",
                     "      <td>f</td>\n",
                     "    </tr>\n",
                     "    <tr>\n",
                     "      <th>1</th>\n",
                     "      <td>organised - focused - vibrant - awesome!do you...</td>\n",
                     "      <td>f</td>\n",
                     "    </tr>\n",
                     "    <tr>\n",
                     "      <th>2</th>\n",
                     "      <td>our client, located in houston, is actively se...</td>\n",
                     "      <td>f</td>\n",
                     "    </tr>\n",
                     "    <tr>\n",
                     "      <th>3</th>\n",
                     "      <td>the company: esri – environmental systems rese...</td>\n",
                     "      <td>f</td>\n",
                     "    </tr>\n",
                     "    <tr>\n",
                     "      <th>4</th>\n",
                     "      <td>job title: itemization review manager\\nlocatio...</td>\n",
                     "      <td>f</td>\n",
                     "    </tr>\n",
                     "  </tbody>\n",
                     "</table>\n",
                     "</div>"
                  ],
                  "text/plain": [
                     "                                             feature fraudulent\n",
                     "0  food52, a fast-growing, james beard award-winn...          f\n",
                     "1  organised - focused - vibrant - awesome!do you...          f\n",
                     "2  our client, located in houston, is actively se...          f\n",
                     "3  the company: esri – environmental systems rese...          f\n",
                     "4  job title: itemization review manager\\nlocatio...          f"
                  ]
               },
               "execution_count": 11,
               "metadata": {},
               "output_type": "execute_result"
            }
         ],
         "source": [
            "df['feature'] = df['feature'].apply(remove_html_tags_and_escape_chars)\n",
            "df.head(5)"
         ]
      },
      {
         "cell_type": "code",
         "execution_count": 13,
         "metadata": {},
         "outputs": [],
         "source": [
            "def remove_non_alpha(input_text):\n",
            "    return ''.join(char if char.isalpha() or char.isspace() else ' ' for char in input_text)"
         ]
      },
      {
         "cell_type": "code",
         "execution_count": 14,
         "metadata": {},
         "outputs": [
            {
               "data": {
                  "text/html": [
                     "<div>\n",
                     "<style scoped>\n",
                     "    .dataframe tbody tr th:only-of-type {\n",
                     "        vertical-align: middle;\n",
                     "    }\n",
                     "\n",
                     "    .dataframe tbody tr th {\n",
                     "        vertical-align: top;\n",
                     "    }\n",
                     "\n",
                     "    .dataframe thead th {\n",
                     "        text-align: right;\n",
                     "    }\n",
                     "</style>\n",
                     "<table border=\"1\" class=\"dataframe\">\n",
                     "  <thead>\n",
                     "    <tr style=\"text-align: right;\">\n",
                     "      <th></th>\n",
                     "      <th>feature</th>\n",
                     "      <th>fraudulent</th>\n",
                     "    </tr>\n",
                     "  </thead>\n",
                     "  <tbody>\n",
                     "    <tr>\n",
                     "      <th>0</th>\n",
                     "      <td>food    a fast growing  james beard award winn...</td>\n",
                     "      <td>f</td>\n",
                     "    </tr>\n",
                     "    <tr>\n",
                     "      <th>1</th>\n",
                     "      <td>organised   focused   vibrant   awesome do you...</td>\n",
                     "      <td>f</td>\n",
                     "    </tr>\n",
                     "    <tr>\n",
                     "      <th>2</th>\n",
                     "      <td>our client  located in houston  is actively se...</td>\n",
                     "      <td>f</td>\n",
                     "    </tr>\n",
                     "    <tr>\n",
                     "      <th>3</th>\n",
                     "      <td>the company  esri   environmental systems rese...</td>\n",
                     "      <td>f</td>\n",
                     "    </tr>\n",
                     "    <tr>\n",
                     "      <th>4</th>\n",
                     "      <td>job title  itemization review manager\\nlocatio...</td>\n",
                     "      <td>f</td>\n",
                     "    </tr>\n",
                     "  </tbody>\n",
                     "</table>\n",
                     "</div>"
                  ],
                  "text/plain": [
                     "                                             feature fraudulent\n",
                     "0  food    a fast growing  james beard award winn...          f\n",
                     "1  organised   focused   vibrant   awesome do you...          f\n",
                     "2  our client  located in houston  is actively se...          f\n",
                     "3  the company  esri   environmental systems rese...          f\n",
                     "4  job title  itemization review manager\\nlocatio...          f"
                  ]
               },
               "execution_count": 14,
               "metadata": {},
               "output_type": "execute_result"
            }
         ],
         "source": [
            "df['feature'] = df['feature'].apply(remove_non_alpha)\n",
            "df.head(5)"
         ]
      },
      {
         "cell_type": "code",
         "execution_count": 15,
         "metadata": {},
         "outputs": [],
         "source": [
            "# tokenise\n",
            "df['feature'] = df['feature'].apply(lambda x: word_tokenize(x.lower()))"
         ]
      },
      {
         "cell_type": "code",
         "execution_count": 16,
         "metadata": {},
         "outputs": [
            {
               "data": {
                  "text/html": [
                     "<div>\n",
                     "<style scoped>\n",
                     "    .dataframe tbody tr th:only-of-type {\n",
                     "        vertical-align: middle;\n",
                     "    }\n",
                     "\n",
                     "    .dataframe tbody tr th {\n",
                     "        vertical-align: top;\n",
                     "    }\n",
                     "\n",
                     "    .dataframe thead th {\n",
                     "        text-align: right;\n",
                     "    }\n",
                     "</style>\n",
                     "<table border=\"1\" class=\"dataframe\">\n",
                     "  <thead>\n",
                     "    <tr style=\"text-align: right;\">\n",
                     "      <th></th>\n",
                     "      <th>feature</th>\n",
                     "      <th>fraudulent</th>\n",
                     "    </tr>\n",
                     "  </thead>\n",
                     "  <tbody>\n",
                     "    <tr>\n",
                     "      <th>0</th>\n",
                     "      <td>[food, a, fast, growing, james, beard, award, ...</td>\n",
                     "      <td>f</td>\n",
                     "    </tr>\n",
                     "    <tr>\n",
                     "      <th>1</th>\n",
                     "      <td>[organised, focused, vibrant, awesome, do, you...</td>\n",
                     "      <td>f</td>\n",
                     "    </tr>\n",
                     "    <tr>\n",
                     "      <th>2</th>\n",
                     "      <td>[our, client, located, in, houston, is, active...</td>\n",
                     "      <td>f</td>\n",
                     "    </tr>\n",
                     "    <tr>\n",
                     "      <th>3</th>\n",
                     "      <td>[the, company, esri, environmental, systems, r...</td>\n",
                     "      <td>f</td>\n",
                     "    </tr>\n",
                     "    <tr>\n",
                     "      <th>4</th>\n",
                     "      <td>[job, title, itemization, review, manager, loc...</td>\n",
                     "      <td>f</td>\n",
                     "    </tr>\n",
                     "  </tbody>\n",
                     "</table>\n",
                     "</div>"
                  ],
                  "text/plain": [
                     "                                             feature fraudulent\n",
                     "0  [food, a, fast, growing, james, beard, award, ...          f\n",
                     "1  [organised, focused, vibrant, awesome, do, you...          f\n",
                     "2  [our, client, located, in, houston, is, active...          f\n",
                     "3  [the, company, esri, environmental, systems, r...          f\n",
                     "4  [job, title, itemization, review, manager, loc...          f"
                  ]
               },
               "execution_count": 16,
               "metadata": {},
               "output_type": "execute_result"
            }
         ],
         "source": [
            "df.head(5)"
         ]
      },
      {
         "cell_type": "code",
         "execution_count": 17,
         "metadata": {},
         "outputs": [],
         "source": [
            "# remove stopwords\n",
            "all_stopwords = set(stopwords.words('english'))\n",
            "all_stopwords.update(['\\\\r\\\\n'])\n",
            "df['feature'] = df['feature'].apply(lambda x: [word for word in x if word not in all_stopwords])"
         ]
      },
      {
         "cell_type": "code",
         "execution_count": 18,
         "metadata": {},
         "outputs": [
            {
               "data": {
                  "text/html": [
                     "<div>\n",
                     "<style scoped>\n",
                     "    .dataframe tbody tr th:only-of-type {\n",
                     "        vertical-align: middle;\n",
                     "    }\n",
                     "\n",
                     "    .dataframe tbody tr th {\n",
                     "        vertical-align: top;\n",
                     "    }\n",
                     "\n",
                     "    .dataframe thead th {\n",
                     "        text-align: right;\n",
                     "    }\n",
                     "</style>\n",
                     "<table border=\"1\" class=\"dataframe\">\n",
                     "  <thead>\n",
                     "    <tr style=\"text-align: right;\">\n",
                     "      <th></th>\n",
                     "      <th>feature</th>\n",
                     "      <th>fraudulent</th>\n",
                     "    </tr>\n",
                     "  </thead>\n",
                     "  <tbody>\n",
                     "    <tr>\n",
                     "      <th>0</th>\n",
                     "      <td>[food, fast, growing, james, beard, award, win...</td>\n",
                     "      <td>f</td>\n",
                     "    </tr>\n",
                     "    <tr>\n",
                     "      <th>1</th>\n",
                     "      <td>[organised, focused, vibrant, awesome, passion...</td>\n",
                     "      <td>f</td>\n",
                     "    </tr>\n",
                     "    <tr>\n",
                     "      <th>2</th>\n",
                     "      <td>[client, located, houston, actively, seeking, ...</td>\n",
                     "      <td>f</td>\n",
                     "    </tr>\n",
                     "    <tr>\n",
                     "      <th>3</th>\n",
                     "      <td>[company, esri, environmental, systems, resear...</td>\n",
                     "      <td>f</td>\n",
                     "    </tr>\n",
                     "    <tr>\n",
                     "      <th>4</th>\n",
                     "      <td>[job, title, itemization, review, manager, loc...</td>\n",
                     "      <td>f</td>\n",
                     "    </tr>\n",
                     "  </tbody>\n",
                     "</table>\n",
                     "</div>"
                  ],
                  "text/plain": [
                     "                                             feature fraudulent\n",
                     "0  [food, fast, growing, james, beard, award, win...          f\n",
                     "1  [organised, focused, vibrant, awesome, passion...          f\n",
                     "2  [client, located, houston, actively, seeking, ...          f\n",
                     "3  [company, esri, environmental, systems, resear...          f\n",
                     "4  [job, title, itemization, review, manager, loc...          f"
                  ]
               },
               "execution_count": 18,
               "metadata": {},
               "output_type": "execute_result"
            }
         ],
         "source": [
            "df.head(5)"
         ]
      },
      {
         "cell_type": "code",
         "execution_count": 19,
         "metadata": {},
         "outputs": [],
         "source": [
            "# stem words\n",
            "df['feature'] = df['feature'].apply(lambda x: [PorterStemmer().stem(word) for word in x])"
         ]
      },
      {
         "cell_type": "code",
         "execution_count": 20,
         "metadata": {},
         "outputs": [
            {
               "data": {
                  "text/html": [
                     "<div>\n",
                     "<style scoped>\n",
                     "    .dataframe tbody tr th:only-of-type {\n",
                     "        vertical-align: middle;\n",
                     "    }\n",
                     "\n",
                     "    .dataframe tbody tr th {\n",
                     "        vertical-align: top;\n",
                     "    }\n",
                     "\n",
                     "    .dataframe thead th {\n",
                     "        text-align: right;\n",
                     "    }\n",
                     "</style>\n",
                     "<table border=\"1\" class=\"dataframe\">\n",
                     "  <thead>\n",
                     "    <tr style=\"text-align: right;\">\n",
                     "      <th></th>\n",
                     "      <th>feature</th>\n",
                     "      <th>fraudulent</th>\n",
                     "    </tr>\n",
                     "  </thead>\n",
                     "  <tbody>\n",
                     "    <tr>\n",
                     "      <th>0</th>\n",
                     "      <td>[food, fast, grow, jame, beard, award, win, on...</td>\n",
                     "      <td>f</td>\n",
                     "    </tr>\n",
                     "    <tr>\n",
                     "      <th>1</th>\n",
                     "      <td>[organis, focus, vibrant, awesom, passion, cus...</td>\n",
                     "      <td>f</td>\n",
                     "    </tr>\n",
                     "    <tr>\n",
                     "      <th>2</th>\n",
                     "      <td>[client, locat, houston, activ, seek, experien...</td>\n",
                     "      <td>f</td>\n",
                     "    </tr>\n",
                     "    <tr>\n",
                     "      <th>3</th>\n",
                     "      <td>[compani, esri, environment, system, research,...</td>\n",
                     "      <td>f</td>\n",
                     "    </tr>\n",
                     "    <tr>\n",
                     "      <th>4</th>\n",
                     "      <td>[job, titl, item, review, manag, locat, fort, ...</td>\n",
                     "      <td>f</td>\n",
                     "    </tr>\n",
                     "  </tbody>\n",
                     "</table>\n",
                     "</div>"
                  ],
                  "text/plain": [
                     "                                             feature fraudulent\n",
                     "0  [food, fast, grow, jame, beard, award, win, on...          f\n",
                     "1  [organis, focus, vibrant, awesom, passion, cus...          f\n",
                     "2  [client, locat, houston, activ, seek, experien...          f\n",
                     "3  [compani, esri, environment, system, research,...          f\n",
                     "4  [job, titl, item, review, manag, locat, fort, ...          f"
                  ]
               },
               "execution_count": 20,
               "metadata": {},
               "output_type": "execute_result"
            }
         ],
         "source": [
            "df.head(5)"
         ]
      },
      {
         "cell_type": "code",
         "execution_count": 21,
         "metadata": {},
         "outputs": [],
         "source": [
            "df['feature'] = df['feature'].apply(lambda x: [word for word in x if len(word) >= 3])"
         ]
      },
      {
         "cell_type": "code",
         "execution_count": 22,
         "metadata": {},
         "outputs": [
            {
               "data": {
                  "text/html": [
                     "<div>\n",
                     "<style scoped>\n",
                     "    .dataframe tbody tr th:only-of-type {\n",
                     "        vertical-align: middle;\n",
                     "    }\n",
                     "\n",
                     "    .dataframe tbody tr th {\n",
                     "        vertical-align: top;\n",
                     "    }\n",
                     "\n",
                     "    .dataframe thead th {\n",
                     "        text-align: right;\n",
                     "    }\n",
                     "</style>\n",
                     "<table border=\"1\" class=\"dataframe\">\n",
                     "  <thead>\n",
                     "    <tr style=\"text-align: right;\">\n",
                     "      <th></th>\n",
                     "      <th>feature</th>\n",
                     "      <th>fraudulent</th>\n",
                     "    </tr>\n",
                     "  </thead>\n",
                     "  <tbody>\n",
                     "    <tr>\n",
                     "      <th>0</th>\n",
                     "      <td>[food, fast, grow, jame, beard, award, win, on...</td>\n",
                     "      <td>f</td>\n",
                     "    </tr>\n",
                     "    <tr>\n",
                     "      <th>1</th>\n",
                     "      <td>[organis, focus, vibrant, awesom, passion, cus...</td>\n",
                     "      <td>f</td>\n",
                     "    </tr>\n",
                     "    <tr>\n",
                     "      <th>2</th>\n",
                     "      <td>[client, locat, houston, activ, seek, experien...</td>\n",
                     "      <td>f</td>\n",
                     "    </tr>\n",
                     "    <tr>\n",
                     "      <th>3</th>\n",
                     "      <td>[compani, esri, environment, system, research,...</td>\n",
                     "      <td>f</td>\n",
                     "    </tr>\n",
                     "    <tr>\n",
                     "      <th>4</th>\n",
                     "      <td>[job, titl, item, review, manag, locat, fort, ...</td>\n",
                     "      <td>f</td>\n",
                     "    </tr>\n",
                     "  </tbody>\n",
                     "</table>\n",
                     "</div>"
                  ],
                  "text/plain": [
                     "                                             feature fraudulent\n",
                     "0  [food, fast, grow, jame, beard, award, win, on...          f\n",
                     "1  [organis, focus, vibrant, awesom, passion, cus...          f\n",
                     "2  [client, locat, houston, activ, seek, experien...          f\n",
                     "3  [compani, esri, environment, system, research,...          f\n",
                     "4  [job, titl, item, review, manag, locat, fort, ...          f"
                  ]
               },
               "execution_count": 22,
               "metadata": {},
               "output_type": "execute_result"
            }
         ],
         "source": [
            "df.head(5)"
         ]
      },
      {
         "cell_type": "code",
         "execution_count": 23,
         "metadata": {},
         "outputs": [],
         "source": [
            "df['feature'] = df['feature'].apply(lambda x: ' '.join(x))"
         ]
      },
      {
         "cell_type": "code",
         "execution_count": 24,
         "metadata": {},
         "outputs": [],
         "source": [
            "# drop rows wwith empty str\n",
            "df = df[df['feature'] != '']"
         ]
      },
      {
         "cell_type": "code",
         "execution_count": 25,
         "metadata": {},
         "outputs": [],
         "source": [
            "df['fraudulent'] = df['fraudulent'].apply(lambda x: 1 if x == \"t\" else 0)"
         ]
      },
      {
         "cell_type": "code",
         "execution_count": 26,
         "metadata": {},
         "outputs": [
            {
               "data": {
                  "text/html": [
                     "<div>\n",
                     "<style scoped>\n",
                     "    .dataframe tbody tr th:only-of-type {\n",
                     "        vertical-align: middle;\n",
                     "    }\n",
                     "\n",
                     "    .dataframe tbody tr th {\n",
                     "        vertical-align: top;\n",
                     "    }\n",
                     "\n",
                     "    .dataframe thead th {\n",
                     "        text-align: right;\n",
                     "    }\n",
                     "</style>\n",
                     "<table border=\"1\" class=\"dataframe\">\n",
                     "  <thead>\n",
                     "    <tr style=\"text-align: right;\">\n",
                     "      <th></th>\n",
                     "      <th>feature</th>\n",
                     "      <th>fraudulent</th>\n",
                     "    </tr>\n",
                     "  </thead>\n",
                     "  <tbody>\n",
                     "    <tr>\n",
                     "      <th>0</th>\n",
                     "      <td>food fast grow jame beard award win onlin food...</td>\n",
                     "      <td>0</td>\n",
                     "    </tr>\n",
                     "    <tr>\n",
                     "      <th>1</th>\n",
                     "      <td>organis focus vibrant awesom passion custom se...</td>\n",
                     "      <td>0</td>\n",
                     "    </tr>\n",
                     "    <tr>\n",
                     "      <th>2</th>\n",
                     "      <td>client locat houston activ seek experienc comm...</td>\n",
                     "      <td>0</td>\n",
                     "    </tr>\n",
                     "    <tr>\n",
                     "      <th>3</th>\n",
                     "      <td>compani esri environment system research insti...</td>\n",
                     "      <td>0</td>\n",
                     "    </tr>\n",
                     "    <tr>\n",
                     "      <th>4</th>\n",
                     "      <td>job titl item review manag locat fort worth de...</td>\n",
                     "      <td>0</td>\n",
                     "    </tr>\n",
                     "  </tbody>\n",
                     "</table>\n",
                     "</div>"
                  ],
                  "text/plain": [
                     "                                             feature  fraudulent\n",
                     "0  food fast grow jame beard award win onlin food...           0\n",
                     "1  organis focus vibrant awesom passion custom se...           0\n",
                     "2  client locat houston activ seek experienc comm...           0\n",
                     "3  compani esri environment system research insti...           0\n",
                     "4  job titl item review manag locat fort worth de...           0"
                  ]
               },
               "execution_count": 26,
               "metadata": {},
               "output_type": "execute_result"
            }
         ],
         "source": [
            "df.head(5)"
         ]
      },
      {
         "cell_type": "markdown",
         "metadata": {},
         "source": [
            "### Feature extraction using tf-idf"
         ]
      },
      {
         "cell_type": "code",
         "execution_count": 100,
         "metadata": {},
         "outputs": [],
         "source": [
            "# Fit and transform the text data using TF-IDF\n",
            "tfidf = TfidfVectorizer()\n",
            "dtm = tfidf.fit_transform(df['feature'])"
         ]
      },
      {
         "cell_type": "markdown",
         "metadata": {},
         "source": [
            "### Dimensionsality reduction using SVD <br>\n",
            "This removes the less important variables in my dataset and improves training speed."
         ]
      },
      {
         "cell_type": "code",
         "execution_count": 102,
         "metadata": {},
         "outputs": [],
         "source": [
            "dimension = 500\n",
            "svd = TruncatedSVD(dimension, random_state=42)\n",
            "dtm_svd = svd.fit_transform(dtm)\n",
            "# Apply Normalizer to normalize the data\n",
            "dtm_svd_normalized = Normalizer(copy=False)\n",
            "dtm_svd_normalized = dtm_svd_normalized.fit_transform(dtm_svd)"
         ]
      },
      {
         "cell_type": "code",
         "execution_count": 103,
         "metadata": {},
         "outputs": [],
         "source": [
            "x = pd.DataFrame(dtm_svd)\n",
            "x.reset_index(inplace=True, drop=True)\n",
            "y = df['fraudulent']"
         ]
      },
      {
         "cell_type": "code",
         "execution_count": null,
         "metadata": {},
         "outputs": [],
         "source": [
            "# train test split\n",
            "x_train, x_test, y_train, y_test = train_test_split(x, y, test_size=0.2, random_state=42, stratify=y)"
         ]
      },
      {
         "attachments": {},
         "cell_type": "markdown",
         "metadata": {},
         "source": [
            "### Modelling"
         ]
      },
      {
         "cell_type": "code",
         "execution_count": null,
         "metadata": {},
         "outputs": [],
         "source": [
            "rf = RandomForestClassifier(n_estimators=100, random_state=42)\n",
            "rf.fit(x_train, y_train)"
         ]
      },
      {
         "cell_type": "code",
         "execution_count": null,
         "metadata": {},
         "outputs": [],
         "source": [
            "evaluate_model(rf, x_train, y_train, 'Train')\n",
            "evaluate_model(rf, x_test, y_test, 'Test')"
         ]
      },
      {
         "cell_type": "code",
         "execution_count": null,
         "metadata": {},
         "outputs": [],
         "source": [
            "# use SMOTETomek to oversample the minority class\n",
            "x_res, y_res = SMOTETomek(sampling_strategy='all', random_state=42).fit_resample(x, y)"
         ]
      },
      {
         "cell_type": "code",
         "execution_count": null,
         "metadata": {},
         "outputs": [],
         "source": [
            "# train test split\n",
            "x_train, x_test, y_train, y_test = train_test_split(x_res, y_res, test_size=0.2, random_state=42, stratify=y_res)"
         ]
      },
      {
         "cell_type": "code",
         "execution_count": null,
         "metadata": {},
         "outputs": [],
         "source": [
            "rf = RandomForestClassifier(n_estimators=100, random_state=42)\n",
            "rf.fit(x_train, y_train)"
         ]
      },
      {
         "cell_type": "code",
         "execution_count": null,
         "metadata": {},
         "outputs": [],
         "source": [
            "evaluate_model(rf, x_train, y_train, 'Train')\n",
            "evaluate_model(rf, x_test, y_test, 'Test')"
         ]
      },
      {
         "attachments": {},
         "cell_type": "markdown",
         "metadata": {},
         "source": [
            "### Create a pipeline for the model"
         ]
      },
      {
         "cell_type": "code",
         "execution_count": 28,
         "metadata": {},
         "outputs": [],
         "source": [
            "# make pipeline\n",
            "tfidf = TfidfVectorizer()\n",
            "svd = TruncatedSVD(n_components=350, random_state=42)\n",
            "norm = Normalizer(copy=False)\n",
            "smote = SMOTETomek(sampling_strategy='all', random_state=42)\n",
            "rf = RandomForestClassifier(n_estimators=100, random_state=42)\n",
            "pipe = make_pipeline(tfidf, svd, norm, smote, rf)\n",
            "x_train, x_test, y_train, y_test = train_test_split(\n",
            "    df['feature'], df['fraudulent'], test_size=0.2, random_state=42, stratify=df['fraudulent'])"
         ]
      },
      {
         "cell_type": "code",
         "execution_count": 29,
         "metadata": {},
         "outputs": [
            {
               "data": {
                  "text/plain": [
                     "Pipeline(steps=[('tfidfvectorizer', TfidfVectorizer()),\n",
                     "                ('truncatedsvd',\n",
                     "                 TruncatedSVD(n_components=350, random_state=42)),\n",
                     "                ('normalizer', Normalizer(copy=False)),\n",
                     "                ('smotetomek',\n",
                     "                 SMOTETomek(random_state=42, sampling_strategy='all')),\n",
                     "                ('randomforestclassifier',\n",
                     "                 RandomForestClassifier(random_state=42))])"
                  ]
               },
               "execution_count": 29,
               "metadata": {},
               "output_type": "execute_result"
            }
         ],
         "source": [
            "pipe.fit(x_train, y_train)"
         ]
      },
      {
         "cell_type": "code",
         "execution_count": 30,
         "metadata": {},
         "outputs": [
            {
               "name": "stdout",
               "output_type": "stream",
               "text": [
                  "Train Set\n",
                  "Accuracy: 0.9999300845976369\n",
                  "F1 Score: 0.9996201002783337\n",
                  "\n",
                  "Classification Report\n",
                  "              precision    recall  f1-score   support\n",
                  "\n",
                  "           0     0.9999    1.0000    1.0000     13611\n",
                  "           1     1.0000    0.9986    0.9993       692\n",
                  "\n",
                  "    accuracy                         0.9999     14303\n",
                  "   macro avg     1.0000    0.9993    0.9996     14303\n",
                  "weighted avg     0.9999    0.9999    0.9999     14303\n",
                  "\n",
                  "Test Set\n",
                  "Accuracy: 0.9818232662192393\n",
                  "F1 Score: 0.8812321323185639\n",
                  "\n",
                  "Classification Report\n",
                  "              precision    recall  f1-score   support\n",
                  "\n",
                  "           0     0.9818    0.9994    0.9905      3403\n",
                  "           1     0.9821    0.6358    0.7719       173\n",
                  "\n",
                  "    accuracy                         0.9818      3576\n",
                  "   macro avg     0.9820    0.8176    0.8812      3576\n",
                  "weighted avg     0.9818    0.9818    0.9800      3576\n",
                  "\n"
               ]
            }
         ],
         "source": [
            "evaluate_model(pipe, x_train, y_train, 'Train')\n",
            "evaluate_model(pipe, x_test, y_test, 'Test')"
         ]
      },
      {
         "cell_type": "code",
         "execution_count": 31,
         "metadata": {},
         "outputs": [
            {
               "data": {
                  "text/plain": [
                     "['../models/rf.pkl']"
                  ]
               },
               "execution_count": 31,
               "metadata": {},
               "output_type": "execute_result"
            }
         ],
         "source": [
            "joblib.dump(pipe, '../models/rf.pkl')"
         ]
      },
      {
         "cell_type": "code",
         "execution_count": null,
         "metadata": {},
         "outputs": [],
         "source": []
      }
   ],
   "metadata": {
      "kernelspec": {
         "display_name": "base",
         "language": "python",
         "name": "python3"
      },
      "language_info": {
         "codemirror_mode": {
            "name": "ipython",
            "version": 3
         },
         "file_extension": ".py",
         "mimetype": "text/x-python",
         "name": "python",
         "nbconvert_exporter": "python",
         "pygments_lexer": "ipython3",
         "version": "3.8.18"
      },
      "orig_nbformat": 4,
      "vscode": {
         "interpreter": {
            "hash": "f48b1a2c38788c4a91ce3e7692fc5e2582621afc45073ba526ca796c7ef760f3"
         }
      }
   },
   "nbformat": 4,
   "nbformat_minor": 2
}
