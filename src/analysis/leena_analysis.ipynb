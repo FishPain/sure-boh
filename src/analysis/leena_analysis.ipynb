{
  "cells": [
    {
      "cell_type": "markdown",
      "metadata": {
        "colab_type": "text",
        "id": "view-in-github"
      },
      "source": [
        "<a href=\"https://colab.research.google.com/github/FishPain/sure-bo/blob/leena/LEENA_codes.ipynb\" target=\"_parent\"><img src=\"https://colab.research.google.com/assets/colab-badge.svg\" alt=\"Open In Colab\"/></a>"
      ]
    },
    {
      "cell_type": "code",
      "execution_count": null,
      "metadata": {
        "colab": {
          "base_uri": "https://localhost:8080/",
          "height": 472
        },
        "id": "StY0tJ3sZ7zQ",
        "outputId": "15d8ab69-2803-4878-af5a-fdf4ff0bfb01"
      },
      "outputs": [],
      "source": [
        "import pandas as pd\n",
        "import matplotlib.pyplot as plt\n",
        "import seaborn as sns\n",
        "from wordcloud import WordCloud, STOPWORDS\n",
        "import re\n",
        "\n",
        "df = pd.read_csv('scam_dataset1.csv',encoding='ISO-8859-1')\n",
        "\n",
        "#define category mapping for job titles\n",
        "category_mapping ={\n",
        "      'Business': ['business', 'sales' , 'marketing' , 'accounting' , 'finance'],\n",
        "     'Human Resource':['admin' , 'adminstrative'],\n",
        "     'Educator':['teach' , 'training' ,'lecture'],\n",
        "     'Manufacturing':['process control' ,'quality assurance' , 'maintenance' ,'manufacturing' , 'purchasing'],\n",
        "     'Construction':['real estate' , 'housing' ,'constructions' , 'architect' ,'interior design'],\n",
        "    'engineering': ['engineer' , 'mechanical' , 'electrical' , 'civil'],\n",
        "    'IT': ['IT' , 'information technology' ,'developer','programmer']\n",
        "}\n",
        "\n",
        "#function to categorise job titles based on keywords\n",
        "def categorise_job_title(title, category_mapping=category_mapping):\n",
        "  for category, keywords in category_mapping.items():\n",
        "    for keyword in keywords:\n",
        "      if str(keyword).lower() in str(title).lower():\n",
        "        return category\n",
        "  return 'Other'\n",
        "# Apply the categorisation function to the 'title' column and create a new 'Category' column\n",
        "df['Category'] = df['title'].apply(lambda x: categorise_job_title(x, category_mapping))\n",
        "\n",
        "# Calculate the counts for each category\n",
        "fraud_counts = df.groupby(['Category','fraudulent']).size().unstack().fillna(0)\n",
        "\n",
        "# Calculate total counts for each category\n",
        "total_counts = fraud_counts.sum(axis=1)\n",
        "\n",
        "# Sort categories based on total counts in descending order\n",
        "sorted_categories = total_counts.sort_values(ascending=False).index\n",
        "\n",
        "# Sort the fraud counts based on sorted categories\n",
        "fraud_counts_sorted = fraud_counts.loc[sorted_categories]\n",
        "\n",
        "# Create a horizontal stacked bar graph for the fraud counts\n",
        "ax = fraud_counts_sorted.plot(kind='barh', stacked=False)\n",
        "\n",
        "# Add labels and title to the plot\n",
        "plt.xlabel('Count')\n",
        "plt.ylabel('Employment Department')\n",
        "plt.title('Proportion of fradulence vs Employment Department')\n",
        "\n",
        "# Annotate the bars with the count values\n",
        "for p in ax.patches:\n",
        "    width = p.get_width()\n",
        "    height = p.get_height()\n",
        "    x, y = p.get_xy()\n",
        "    ax.annotate(f'{int(width)}', (x + width /  2 , y + height / 2), ha='left', va='center', color='black')\n",
        "\n",
        "# Add legend to the plot\n",
        "plt.legend(title='Fraudulent', labels=['Not Fraudulent', 'Fraudulent'])\n",
        "\n",
        "plt.show()"
      ]
    },
    {
      "cell_type": "code",
      "execution_count": null,
      "metadata": {
        "colab": {
          "base_uri": "https://localhost:8080/"
        },
        "id": "XdLg8sTD-DSh",
        "outputId": "cba5c25f-3d24-4bc0-9f67-dcdd87afe038"
      },
      "outputs": [],
      "source": [
        "# Filter the DF for rows where Category is 'Other'\n",
        "other_data = df[df['Category'] == 'Other']\n",
        "\n",
        "# Display the data in the 'title' column for the 'Other' category\n",
        "print(other_data['title'])"
      ]
    },
    {
      "cell_type": "code",
      "execution_count": null,
      "metadata": {
        "colab": {
          "base_uri": "https://localhost:8080/",
          "height": 612
        },
        "id": "bnlcbiRG2l6N",
        "outputId": "83a56f26-92a0-4805-b55e-88e1d14c1a58"
      },
      "outputs": [],
      "source": [
        "\n",
        "\n",
        "# Group by 'employment_type' and 'fraudulent', then count occurrences\n",
        "stacked_data = df.groupby(['employment_type', 'fraudulent']).size().unstack().fillna(0)\n",
        "\n",
        "# Calculate the total counts for each category\n",
        "total_counts = stacked_data.sum(axis=1)\n",
        "\n",
        "# Sort the data based on the total counts in ascending order\n",
        "sorted_data = stacked_data.loc[total_counts.sort_values().index]\n",
        "\n",
        "# Create a clustered bar graph\n",
        "ax = sorted_data.plot(kind='bar', figsize=(10, 6))\n",
        "\n",
        "# Customize labels and title\n",
        "plt.xlabel('Employment Type')\n",
        "plt.ylabel('Count')\n",
        "plt.title('Employment Type vs Fraudulent')\n",
        "\n",
        "# Display the legend\n",
        "plt.legend(title='Fraudulent', labels=['Not Fraudulent', 'Fraudulent'])\n",
        "\n",
        "# Add values on the bars\n",
        "for p in ax.patches:\n",
        "    width = p.get_width()\n",
        "    height = p.get_height()\n",
        "    x, y = p.get_xy()\n",
        "    ax.annotate(f'{int(height)}', (x + width / 2, y + height), ha='center', va='bottom')\n",
        "\n",
        "plt.xticks(rotation=45, ha='right')\n",
        "\n",
        "# Show the plot\n",
        "plt.show()\n"
      ]
    },
    {
      "cell_type": "code",
      "execution_count": null,
      "metadata": {
        "colab": {
          "base_uri": "https://localhost:8080/"
        },
        "id": "28-fG0hi9Lh5",
        "outputId": "5fb84745-01f7-41d7-ce8a-67b71d1d1543"
      },
      "outputs": [],
      "source": [
        "from wordcloud import WordCloud, STOPWORDS\n",
        "import matplotlib.pyplot as plt\n",
        "import pandas as pd\n",
        "import re\n",
        "\n",
        "category_mapping ={\n",
        "      'Business': ['business', 'sales' , 'marketing' , 'accounting' , 'finance'],\n",
        "     'Human Resource':['admin' , 'adminstrative'],\n",
        "\n",
        "     'Educator':['teach' , 'training' ,'lecture'],\n",
        "     'Manufacturing':['process control' ,'quality assurance' , 'maintenance' ,'manufacturing' , 'purchasing'],\n",
        "     'Construction':['real estate' , 'housing' ,'constructions' , 'architect' ,'interior design'],\n",
        "    'engineering': ['engineer' , 'mechanical' , 'electrical' , 'civil'],\n",
        "    'IT': ['IT' , 'information technology' ,'developer','programmer']\n",
        "}\n",
        "\n",
        "def categorise_job_title(title, category_mapping=category_mapping):\n",
        "  for category, keywords in category_mapping.items():\n",
        "    for keyword in keywords:\n",
        "      if str(keyword).lower() in str(title).lower():\n",
        "        return category\n",
        "  return 'Other'\n",
        "\n",
        "# Apply the categorization function to the job titles and create a new 'Category' column\n",
        "df['Category'] = df['title'].apply(lambda x: categorise_job_title(x, category_mapping))\n",
        "\n",
        "print(df.columns)\n",
        "\n",
        "def preprocess_and_filter(text):\n",
        "    # Remove common stopwords\n",
        "    stopwords = set(STOPWORDS)\n",
        "    words = text.lower().split()\n",
        "    filtered_words = [word for word in words if len(word) > 1 and word not in stopwords]\n",
        "    return ' '.join(filtered_words)\n",
        "\n",
        "# Assuming you have read the CSV file into a DataFrame\n",
        "df = pd.read_csv('scam_dataset1.csv', encoding='ISO-8859-1')\n",
        "\n",
        "# Preprocess and filter the 'Other' category job descriptions\n",
        "other_descriptions = df[df['Category'] == 'Other']['description'].astype(str)\n",
        "filtered_other_text = preprocess_and_filter(' '.join(other_descriptions))\n",
        "\n",
        "# Generate the word cloud\n",
        "wordcloud_other_filtered = WordCloud(width=800, height=400, background_color='white').generate(filtered_other_text)\n",
        "\n",
        "# Display the word cloud\n",
        "plt.figure(figsize=(8, 4))\n",
        "plt.imshow(wordcloud_other_filtered, interpolation='bilinear')\n",
        "plt.title('Filtered Other Job Descriptions')\n",
        "plt.axis('off')\n",
        "plt.show()\n"
      ]
    },
    {
      "cell_type": "code",
      "execution_count": null,
      "metadata": {
        "colab": {
          "base_uri": "https://localhost:8080/"
        },
        "id": "jORUiVeuv1X6",
        "outputId": "0dd86e25-f392-4ccb-f823-33a4454d185f"
      },
      "outputs": [],
      "source": [
        "import pandas as pd\n",
        "from collections import Counter\n",
        "\n",
        "df = pd.read_csv('scam_dataset1.csv',encoding='ISO-8859-1')\n",
        "\n",
        "text = ' '.join(df['description'].astype(str))\n",
        "\n",
        "# Tokenize the text into words\n",
        "words = text.lower().split()\n",
        "\n",
        "# Calculate word frequencies\n",
        "word_frequencies = Counter(words)\n",
        "\n",
        "# Identify the most common words (you can adjust the count as needed)\n",
        "common_words = word_frequencies.most_common(20)  # Change 20 to a suitable number\n",
        "\n",
        "# Extract the words as custom stopwords\n",
        "custom_stopwords = {word for word, _ in common_words}\n",
        "\n",
        "print(\"Custom Stopwords:\", custom_stopwords)\n"
      ]
    },
    {
      "cell_type": "code",
      "execution_count": null,
      "metadata": {
        "colab": {
          "base_uri": "https://localhost:8080/",
          "height": 321
        },
        "id": "Ar39SkAfaY8B",
        "outputId": "0e717114-afbe-4b47-ca0a-417c6628d974"
      },
      "outputs": [],
      "source": [
        "from wordcloud import WordCloud, STOPWORDS\n",
        "import matplotlib.pyplot as plt\n",
        "import re\n",
        "\n",
        "# Create a set of custom stopwords for word cloud generation\n",
        "custom_stopwords = set(STOPWORDS)\n",
        "\n",
        "# Function to preprocess and filter text\n",
        "def preprocess_and_filter(text,custom_stopwords):\n",
        "    words = text.lower().split()\n",
        "\n",
        "     # Filter out words based on length, custom stopwords, and regex pattern\n",
        "    filtered_words = [word for word in words if len(word) > 1\n",
        "                      and word not in custom_stopwords and re.match(\"^[a-zA-Z]+$\", word)]\n",
        "    return ' '.join(filtered_words)\n",
        "\n",
        "# Preprocess and filter non-fraudulent and fraudulent texts\n",
        "filtered_non_fraudulent_text = preprocess_and_filter(non_fraudulent_text,custom_stopwords)\n",
        "filtered_fraudulent_text = preprocess_and_filter(fraudulent_text,custom_stopwords)\n",
        "\n",
        "# Generate word clouds for non-fraudulent and fraudulent texts\n",
        "wordcloud_filtered_non_fraudulent = WordCloud(width=800, height=400, background_color='white',stopwords=custom_stopwords).generate(filtered_non_fraudulent_text)\n",
        "wordcloud_filtered_fraudulent = WordCloud(width=800, height=400, background_color='white',stopwords=custom_stopwords).generate(filtered_fraudulent_text)\n",
        "\n",
        "# Plot the word cloud for non-fraudulent job descriptions\n",
        "plt.figure(figsize=(15, 6))\n",
        "plt.subplot(1, 2, 1)\n",
        "plt.imshow(wordcloud_filtered_non_fraudulent, interpolation='bilinear')\n",
        "plt.title('Non-Fraudulent Job Descriptions')\n",
        "plt.axis('off')\n",
        "\n",
        "# Plot the word cloud for fraudulent job descriptions\n",
        "plt.subplot(1, 2, 2)\n",
        "plt.imshow(wordcloud_filtered_fraudulent, interpolation='bilinear')\n",
        "plt.title('Fraudulent Job Descriptions')\n",
        "plt.axis('off')\n",
        "\n",
        "plt.tight_layout()\n",
        "plt.show()\n"
      ]
    },
    {
      "cell_type": "code",
      "execution_count": null,
      "metadata": {
        "colab": {
          "base_uri": "https://localhost:8080/",
          "height": 367
        },
        "id": "BuSLkL5VYnKz",
        "outputId": "ae2c3e99-3e34-44a7-9f80-8baa44a1affb"
      },
      "outputs": [],
      "source": [
        "from wordcloud import WordCloud, STOPWORDS\n",
        "import matplotlib.pyplot as plt\n",
        "import re\n",
        "\n",
        "custom_stopwords = {'for', 'be', 'with', 'the', 'of', 'on', 'will', 'in',\n",
        "                   'a', 'you', 'and', 'we', 'an', 'are', 'to', 'that', 'our',\n",
        "                   'as', 'is', 'team', 'nan'}\n",
        "\n",
        "# Function to preprocess and filter text\n",
        "def preprocess_and_filter(text):\n",
        "    # Split the text into words\n",
        "    words = text.lower().split()\n",
        "    # Exclude single letters and non-English words\n",
        "    filtered_words = [word for word in words if len(word) > 1 and re.match(\"^[a-zA-Z]+$\", word)and word not in custom_stopwords]\n",
        "    # Join the filtered words\n",
        "    return ' '.join(filtered_words)\n",
        "\n",
        "# Assuming you have df and other_text from the previous code\n",
        "\n",
        "# Extract job descriptions for the 'Other' category\n",
        "other_descriptions = df[df['Category'] == 'Other']['title'].astype(str)\n",
        "other_text = ' '.join(other_descriptions)\n",
        "\n",
        "# Preprocess and filter the text\n",
        "filtered_other_text = preprocess_and_filter(other_text)\n",
        "\n",
        "# Generate the word cloud for the 'Other' category with filtered words\n",
        "wordcloud_other_filtered = WordCloud(width=800, height=400, background_color='white', stopwords=STOPWORDS.union(custom_stopwords)).generate(filtered_other_text)\n",
        "\n",
        "# Display the word cloud for the 'Other' category with filtered words\n",
        "plt.figure(figsize=(8, 4))\n",
        "plt.imshow(wordcloud_other_filtered, interpolation='bilinear')\n",
        "plt.title('\"Other\" Job Department')\n",
        "plt.axis('off')\n",
        "plt.show()\n",
        "\n"
      ]
    },
    {
      "cell_type": "code",
      "execution_count": null,
      "metadata": {
        "colab": {
          "base_uri": "https://localhost:8080/",
          "height": 472
        },
        "id": "RypKhGqfs6Gb",
        "outputId": "9d06d6d0-070d-4017-ad4a-0c9a70799540"
      },
      "outputs": [],
      "source": [
        "import pandas as pd\n",
        "import matplotlib.pyplot as plt\n",
        "\n",
        "category_counts = df['Category'].value_counts()\n",
        "\n",
        "# Plotting the counts\n",
        "category_counts.plot(kind='barh')\n",
        "plt.xlabel('Count')\n",
        "plt.ylabel('Job Category')\n",
        "plt.title('Number of Data in Each Job Category')\n",
        "for i, count in enumerate(category_counts):\n",
        "    plt.text(count, i, str(count), ha='left', va='center')\n",
        "plt.show()"
      ]
    },
    {
      "cell_type": "code",
      "execution_count": null,
      "metadata": {
        "colab": {
          "base_uri": "https://localhost:8080/"
        },
        "id": "_gmcYC7bnL1j",
        "outputId": "f611796d-a682-4a6d-ac87-340bf31f0bed"
      },
      "outputs": [],
      "source": [
        "df['Category'].value_counts()"
      ]
    },
    {
      "cell_type": "code",
      "execution_count": null,
      "metadata": {
        "id": "6INSlQdZ0Hvg"
      },
      "outputs": [],
      "source": [
        "df = pd.read_csv('scam_dataset1.csv',encoding='ISO-8859-1')"
      ]
    },
    {
      "cell_type": "code",
      "execution_count": null,
      "metadata": {
        "id": "aCRJC1ApzFgm"
      },
      "outputs": [],
      "source": [
        "category_mapping ={\n",
        "     'Business': ['business'and 'sales' and 'marketing' and 'accounting' and 'finance'],\n",
        "     'Human Resource':['admin' and 'adminstrative'],\n",
        "     'Mass Communications': ['advertising' and 'entertainment' and 'public relations' and 'arts' and 'creative design'],\n",
        "     'Hotel': ['tourism' and 'hotel'],\n",
        "     'Educator':['teach' and 'training' and 'lecture'],\n",
        "     'Manufacturing':['process control' and 'quality assurance' and 'maintenance' and 'manufacturing' and 'purchasing'],\n",
        "     'Construction':['real estate' and 'housing' and 'constructions' and 'architect' and 'interior design'],\n",
        "     'Healthcare': ['pharmacy' and 'practitioner' and 'diagnosis'],\n",
        "     \"Science\": ['agriculture' and \"food technology\" and 'biology' and 'chemistry' and 'physics' and 'biomedical' and 'science' and 'biotechnology' and 'geology'],\n",
        "    'engineering': ['engineer' and 'mechanical' and 'electrical' and 'civil'],\n",
        "    'IT': ['IT' and 'information technology' and 'developer'and 'programmer']\n",
        "}\n",
        "def categorise_job_title(title, category_mapping=category_mapping):\n",
        "  for category, keywords in category_mapping.items():\n",
        "    for keyword in keywords:\n",
        "      if str(keyword).lower() in str(title).lower():\n",
        "        return category\n",
        "  return 'Other'"
      ]
    },
    {
      "cell_type": "code",
      "execution_count": null,
      "metadata": {
        "id": "tk51BGlLzFdO"
      },
      "outputs": [],
      "source": [
        "df['catergory'] = df['title'].apply(lambda x: categorise_job_title(x))"
      ]
    },
    {
      "cell_type": "code",
      "execution_count": null,
      "metadata": {
        "colab": {
          "base_uri": "https://localhost:8080/",
          "height": 264
        },
        "id": "hrLDZ9yUqBzM",
        "outputId": "1f15f99c-4a09-4cb6-fa4d-6f7a399203ad"
      },
      "outputs": [],
      "source": [
        "df.describe()\n"
      ]
    },
    {
      "cell_type": "code",
      "execution_count": null,
      "metadata": {
        "colab": {
          "base_uri": "https://localhost:8080/",
          "height": 868
        },
        "id": "XHgYwoYiqFXv",
        "outputId": "4207a9a0-c1b9-40de-f20d-378f093c4dcc"
      },
      "outputs": [],
      "source": [
        "df.head(10)"
      ]
    },
    {
      "cell_type": "code",
      "execution_count": null,
      "metadata": {
        "colab": {
          "base_uri": "https://localhost:8080/",
          "height": 764
        },
        "id": "k0BDd3cnqv9r",
        "outputId": "690a2a15-aab0-47b0-fa0d-2cd4195a8550"
      },
      "outputs": [],
      "source": [
        "df[df['fraudulent'] == \"t\"].head(10)\n"
      ]
    },
    {
      "cell_type": "code",
      "execution_count": null,
      "metadata": {
        "id": "BMpVb1YGrgMl"
      },
      "outputs": [],
      "source": []
    }
  ],
  "metadata": {
    "colab": {
      "include_colab_link": true,
      "provenance": []
    },
    "kernelspec": {
      "display_name": "Python 3",
      "name": "python3"
    },
    "language_info": {
      "name": "python"
    }
  },
  "nbformat": 4,
  "nbformat_minor": 0
}
